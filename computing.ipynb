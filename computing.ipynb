{
 "cells": [
  {
   "cell_type": "code",
   "execution_count": 4,
   "id": "3ffd3337",
   "metadata": {},
   "outputs": [],
   "source": [
    "import numpy as np\n"
   ]
  },
  {
   "cell_type": "code",
   "execution_count": 22,
   "id": "d2f97039",
   "metadata": {},
   "outputs": [],
   "source": [
    "acc = [0.9368, 0.9362, 0.9377]  "
   ]
  },
  {
   "cell_type": "code",
   "execution_count": 23,
   "id": "606fb723",
   "metadata": {},
   "outputs": [
    {
     "name": "stdout",
     "output_type": "stream",
     "text": [
      "93.69 \\pm 0.06\n"
     ]
    },
    {
     "name": "stderr",
     "output_type": "stream",
     "text": [
      "<>:1: SyntaxWarning: invalid escape sequence '\\p'\n",
      "<>:1: SyntaxWarning: invalid escape sequence '\\p'\n",
      "/tmp/ipykernel_500748/2827153803.py:1: SyntaxWarning: invalid escape sequence '\\p'\n",
      "  print(round(np.mean(acc)*100,2),'\\pm', round(np.std(acc)*100,2))\n"
     ]
    }
   ],
   "source": [
    "print(round(np.mean(acc)*100,2),'\\pm', round(np.std(acc)*100,2))\n"
   ]
  },
  {
   "cell_type": "code",
   "execution_count": null,
   "id": "09c123b5",
   "metadata": {},
   "outputs": [],
   "source": []
  }
 ],
 "metadata": {
  "kernelspec": {
   "display_name": "base",
   "language": "python",
   "name": "python3"
  },
  "language_info": {
   "codemirror_mode": {
    "name": "ipython",
    "version": 3
   },
   "file_extension": ".py",
   "mimetype": "text/x-python",
   "name": "python",
   "nbconvert_exporter": "python",
   "pygments_lexer": "ipython3",
   "version": "3.12.2"
  }
 },
 "nbformat": 4,
 "nbformat_minor": 5
}
