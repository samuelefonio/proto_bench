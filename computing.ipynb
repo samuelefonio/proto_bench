{
 "cells": [
  {
   "cell_type": "markdown",
   "id": "675b297f",
   "metadata": {},
   "source": [
    "ACCURACY"
   ]
  },
  {
   "cell_type": "code",
   "execution_count": 1,
   "id": "3ffd3337",
   "metadata": {},
   "outputs": [],
   "source": [
    "import numpy as np\n"
   ]
  },
  {
   "cell_type": "code",
   "execution_count": 2,
   "id": "d2f97039",
   "metadata": {},
   "outputs": [],
   "source": [
    "acc = [\n",
    "    0.51904,\n",
    "    0.49411,\n",
    "    0.50089\n",
    "]  "
   ]
  },
  {
   "cell_type": "code",
   "execution_count": null,
   "id": "606fb723",
   "metadata": {},
   "outputs": [
    {
     "name": "stdout",
     "output_type": "stream",
     "text": [
      "$ 50.47 \\stdf{ 1.05 }$\n"
     ]
    },
    {
     "name": "stderr",
     "output_type": "stream",
     "text": [
      "<>:1: SyntaxWarning: invalid escape sequence '\\s'\n",
      "<>:1: SyntaxWarning: invalid escape sequence '\\s'\n",
      "/tmp/ipykernel_1876548/1284825935.py:1: SyntaxWarning: invalid escape sequence '\\s'\n",
      "  print('$',round(np.mean(acc)*100,2),'\\stdf{', round(np.std(acc)*100,2),'}$')\n"
     ]
    }
   ],
   "source": [
    "print('$',round(np.mean(acc)*100,2),'\\stdf{', round(np.std(acc)*100,2),'}$')\n"
   ]
  },
  {
   "cell_type": "markdown",
   "id": "cf122ffc",
   "metadata": {},
   "source": [
    "OOD "
   ]
  },
  {
   "cell_type": "code",
   "execution_count": 35,
   "id": "12c46687",
   "metadata": {},
   "outputs": [],
   "source": [
    "a =0.78444-0.63971\n",
    "\n",
    "b = 0.76698-0.62569\n",
    "\n",
    "\n",
    "c = 0.7817-0.61203\n"
   ]
  },
  {
   "cell_type": "code",
   "execution_count": 36,
   "id": "878bea85",
   "metadata": {},
   "outputs": [
    {
     "data": {
      "text/plain": [
       "[0.14473000000000003, 0.14129000000000003, 0.16967]"
      ]
     },
     "execution_count": 36,
     "metadata": {},
     "output_type": "execute_result"
    }
   ],
   "source": [
    "gap = [a,b,c]\n",
    "gap"
   ]
  },
  {
   "cell_type": "code",
   "execution_count": 37,
   "id": "ad7cd987",
   "metadata": {},
   "outputs": [
    {
     "name": "stdout",
     "output_type": "stream",
     "text": [
      "$ 0.15 \\stdf{ 0.01 }$\n"
     ]
    },
    {
     "name": "stderr",
     "output_type": "stream",
     "text": [
      "<>:1: SyntaxWarning: invalid escape sequence '\\s'\n",
      "<>:1: SyntaxWarning: invalid escape sequence '\\s'\n",
      "/tmp/ipykernel_1883275/4042928135.py:1: SyntaxWarning: invalid escape sequence '\\s'\n",
      "  print('$',round(np.mean(gap),2),'\\stdf{',round(np.std(gap),2),'}$')\n"
     ]
    }
   ],
   "source": [
    "print('$',round(np.mean(gap),2),'\\stdf{',round(np.std(gap),2),'}$')\n",
    "\n"
   ]
  },
  {
   "cell_type": "code",
   "execution_count": null,
   "id": "25af9088",
   "metadata": {},
   "outputs": [],
   "source": []
  }
 ],
 "metadata": {
  "kernelspec": {
   "display_name": "base",
   "language": "python",
   "name": "python3"
  },
  "language_info": {
   "codemirror_mode": {
    "name": "ipython",
    "version": 3
   },
   "file_extension": ".py",
   "mimetype": "text/x-python",
   "name": "python",
   "nbconvert_exporter": "python",
   "pygments_lexer": "ipython3",
   "version": "3.12.2"
  }
 },
 "nbformat": 4,
 "nbformat_minor": 5
}
