{
 "cells": [
  {
   "cell_type": "code",
   "execution_count": 1,
   "id": "3ffd3337",
   "metadata": {},
   "outputs": [],
   "source": [
    "import numpy as np\n"
   ]
  },
  {
   "cell_type": "code",
   "execution_count": 4,
   "id": "d2f97039",
   "metadata": {},
   "outputs": [],
   "source": [
    "acc = [\n",
    "    0.4798,\n",
    "    0.4622,\n",
    "    0.4792\n",
    "\n",
    "]  "
   ]
  },
  {
   "cell_type": "code",
   "execution_count": 5,
   "id": "606fb723",
   "metadata": {},
   "outputs": [
    {
     "name": "stdout",
     "output_type": "stream",
     "text": [
      "47.37 \\pm 0.82\n"
     ]
    },
    {
     "name": "stderr",
     "output_type": "stream",
     "text": [
      "<>:1: SyntaxWarning: invalid escape sequence '\\p'\n",
      "<>:1: SyntaxWarning: invalid escape sequence '\\p'\n",
      "/tmp/ipykernel_845675/2827153803.py:1: SyntaxWarning: invalid escape sequence '\\p'\n",
      "  print(round(np.mean(acc)*100,2),'\\pm', round(np.std(acc)*100,2))\n"
     ]
    }
   ],
   "source": [
    "print(round(np.mean(acc)*100,2),'\\pm', round(np.std(acc)*100,2))\n"
   ]
  },
  {
   "cell_type": "code",
   "execution_count": null,
   "id": "71a40897",
   "metadata": {},
   "outputs": [],
   "source": []
  }
 ],
 "metadata": {
  "kernelspec": {
   "display_name": "base",
   "language": "python",
   "name": "python3"
  },
  "language_info": {
   "codemirror_mode": {
    "name": "ipython",
    "version": 3
   },
   "file_extension": ".py",
   "mimetype": "text/x-python",
   "name": "python",
   "nbconvert_exporter": "python",
   "pygments_lexer": "ipython3",
   "version": "3.12.2"
  }
 },
 "nbformat": 4,
 "nbformat_minor": 5
}
