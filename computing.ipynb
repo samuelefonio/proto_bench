{
 "cells": [
  {
   "cell_type": "markdown",
   "id": "675b297f",
   "metadata": {},
   "source": [
    "ACCURACY"
   ]
  },
  {
   "cell_type": "code",
   "execution_count": 11,
   "id": "3ffd3337",
   "metadata": {},
   "outputs": [],
   "source": [
    "import numpy as np\n"
   ]
  },
  {
   "cell_type": "code",
   "execution_count": 24,
   "id": "d2f97039",
   "metadata": {},
   "outputs": [],
   "source": [
    "acc = [\n",
    "    0.3468,\n",
    "    0.3508,\n",
    "    0.3631\n",
    "]  "
   ]
  },
  {
   "cell_type": "code",
   "execution_count": 25,
   "id": "606fb723",
   "metadata": {},
   "outputs": [
    {
     "name": "stdout",
     "output_type": "stream",
     "text": [
      "35.36 \\pm 0.69\n"
     ]
    },
    {
     "name": "stderr",
     "output_type": "stream",
     "text": [
      "<>:1: SyntaxWarning: invalid escape sequence '\\p'\n",
      "<>:1: SyntaxWarning: invalid escape sequence '\\p'\n",
      "/tmp/ipykernel_1670042/2827153803.py:1: SyntaxWarning: invalid escape sequence '\\p'\n",
      "  print(round(np.mean(acc)*100,2),'\\pm', round(np.std(acc)*100,2))\n"
     ]
    }
   ],
   "source": [
    "print(round(np.mean(acc)*100,2),'\\pm', round(np.std(acc)*100,2))\n"
   ]
  },
  {
   "cell_type": "markdown",
   "id": "cf122ffc",
   "metadata": {},
   "source": [
    "OOD "
   ]
  },
  {
   "cell_type": "code",
   "execution_count": 18,
   "id": "12c46687",
   "metadata": {},
   "outputs": [],
   "source": [
    "a = 0.85325- 0.77811\n",
    "\n",
    "b = 0.84767- 0.76555\n",
    "\n",
    "\n",
    "c = 0.84545- 0.77248\n"
   ]
  },
  {
   "cell_type": "code",
   "execution_count": 19,
   "id": "878bea85",
   "metadata": {},
   "outputs": [],
   "source": [
    "gap = [a,b,c]"
   ]
  },
  {
   "cell_type": "code",
   "execution_count": 20,
   "id": "44276ef7",
   "metadata": {},
   "outputs": [
    {
     "data": {
      "text/plain": [
       "[0.07513999999999998, 0.08212000000000008, 0.07296999999999998]"
      ]
     },
     "execution_count": 20,
     "metadata": {},
     "output_type": "execute_result"
    }
   ],
   "source": [
    "gap"
   ]
  },
  {
   "cell_type": "code",
   "execution_count": 23,
   "id": "ad7cd987",
   "metadata": {},
   "outputs": [
    {
     "name": "stdout",
     "output_type": "stream",
     "text": [
      "0.08 \\stdf{ 0.0 }\n"
     ]
    },
    {
     "name": "stderr",
     "output_type": "stream",
     "text": [
      "<>:1: SyntaxWarning: invalid escape sequence '\\s'\n",
      "<>:1: SyntaxWarning: invalid escape sequence '\\s'\n",
      "/tmp/ipykernel_1670042/618993328.py:1: SyntaxWarning: invalid escape sequence '\\s'\n",
      "  print(round(np.mean(gap),2),'\\stdf{',round(np.std(gap),2),'}')\n"
     ]
    }
   ],
   "source": [
    "print(round(np.mean(gap),2),'\\stdf{',round(np.std(gap),2),'}')"
   ]
  },
  {
   "cell_type": "code",
   "execution_count": null,
   "id": "ac5734e6",
   "metadata": {},
   "outputs": [],
   "source": []
  }
 ],
 "metadata": {
  "kernelspec": {
   "display_name": "base",
   "language": "python",
   "name": "python3"
  },
  "language_info": {
   "codemirror_mode": {
    "name": "ipython",
    "version": 3
   },
   "file_extension": ".py",
   "mimetype": "text/x-python",
   "name": "python",
   "nbconvert_exporter": "python",
   "pygments_lexer": "ipython3",
   "version": "3.12.2"
  }
 },
 "nbformat": 4,
 "nbformat_minor": 5
}
