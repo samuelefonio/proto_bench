{
 "cells": [
  {
   "cell_type": "markdown",
   "id": "675b297f",
   "metadata": {},
   "source": [
    "ACCURACY"
   ]
  },
  {
   "cell_type": "code",
   "execution_count": 3,
   "id": "3ffd3337",
   "metadata": {},
   "outputs": [],
   "source": [
    "import numpy as np\n"
   ]
  },
  {
   "cell_type": "code",
   "execution_count": 13,
   "id": "d2f97039",
   "metadata": {},
   "outputs": [],
   "source": [
    "acc = [\n",
    "    0.2135,\n",
    "    0.2259,\n",
    "    0.2028\n",
    "]  "
   ]
  },
  {
   "cell_type": "code",
   "execution_count": 14,
   "id": "606fb723",
   "metadata": {},
   "outputs": [
    {
     "name": "stdout",
     "output_type": "stream",
     "text": [
      "21.41 \\pm 0.94\n"
     ]
    },
    {
     "name": "stderr",
     "output_type": "stream",
     "text": [
      "<>:1: SyntaxWarning: invalid escape sequence '\\p'\n",
      "<>:1: SyntaxWarning: invalid escape sequence '\\p'\n",
      "/tmp/ipykernel_1591457/2827153803.py:1: SyntaxWarning: invalid escape sequence '\\p'\n",
      "  print(round(np.mean(acc)*100,2),'\\pm', round(np.std(acc)*100,2))\n"
     ]
    }
   ],
   "source": [
    "print(round(np.mean(acc)*100,2),'\\pm', round(np.std(acc)*100,2))\n"
   ]
  },
  {
   "cell_type": "markdown",
   "id": "cf122ffc",
   "metadata": {},
   "source": [
    "OOD "
   ]
  },
  {
   "cell_type": "code",
   "execution_count": 47,
   "id": "71a40897",
   "metadata": {},
   "outputs": [
    {
     "name": "stderr",
     "output_type": "stream",
     "text": [
      "<>:4: SyntaxWarning: invalid escape sequence '\\s'\n",
      "<>:4: SyntaxWarning: invalid escape sequence '\\s'\n",
      "/tmp/ipykernel_1423426/3764086723.py:4: SyntaxWarning: invalid escape sequence '\\s'\n",
      "  return print(f\"{gap} \\stdf{ {std_gap} }\")\n"
     ]
    }
   ],
   "source": [
    "def compute_gap(mean_a, std_a, mean_b, std_b):\n",
    "    gap = round((mean_a - mean_b)*100, 2)\n",
    "    std_gap = round((std_a**2 + std_b**2) ** 0.5, 2)\n",
    "    return print(f\"{gap} \\stdf{ {std_gap} }\")"
   ]
  },
  {
   "cell_type": "code",
   "execution_count": 48,
   "id": "0e63269e",
   "metadata": {},
   "outputs": [],
   "source": [
    "mean_a = 0.73378\n",
    "std_a = 0.20617\n",
    "mean_b = 0.7193\n",
    "std_b = 0.20856"
   ]
  },
  {
   "cell_type": "code",
   "execution_count": 49,
   "id": "74ddd012",
   "metadata": {},
   "outputs": [
    {
     "name": "stdout",
     "output_type": "stream",
     "text": [
      "1.45 \\stdf{0.29}\n"
     ]
    }
   ],
   "source": [
    "compute_gap(mean_a, std_a, mean_b, std_b)"
   ]
  },
  {
   "cell_type": "code",
   "execution_count": null,
   "id": "ad7cd987",
   "metadata": {},
   "outputs": [],
   "source": []
  }
 ],
 "metadata": {
  "kernelspec": {
   "display_name": "base",
   "language": "python",
   "name": "python3"
  },
  "language_info": {
   "codemirror_mode": {
    "name": "ipython",
    "version": 3
   },
   "file_extension": ".py",
   "mimetype": "text/x-python",
   "name": "python",
   "nbconvert_exporter": "python",
   "pygments_lexer": "ipython3",
   "version": "3.12.2"
  }
 },
 "nbformat": 4,
 "nbformat_minor": 5
}
